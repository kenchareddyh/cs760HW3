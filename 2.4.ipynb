{
 "cells": [
  {
   "cell_type": "code",
   "execution_count": 1,
   "id": "39fbafe5",
   "metadata": {},
   "outputs": [],
   "source": [
    "import pandas as pd\n",
    "import matplotlib.pyplot as plt\n",
    "from matplotlib.colors import ListedColormap\n",
    "import numpy as np\n",
    "from sklearn.model_selection import train_test_split\n",
    "from sklearn.neighbors import KNeighborsClassifier"
   ]
  },
  {
   "cell_type": "code",
   "execution_count": 2,
   "id": "6a70569e",
   "metadata": {},
   "outputs": [
    {
     "name": "stdout",
     "output_type": "stream",
     "text": [
      "(5000, 3000) (5000,)\n"
     ]
    }
   ],
   "source": [
    "trainset = pd.read_csv('data/emails.csv')\n",
    "traindata = np.loadtxt('data/emails.csv',delimiter=',', skiprows=1, usecols=range(1,3002))\n",
    "EX_train = traindata[:, :3000]  \n",
    "Ey_train = traindata[:,3000]\n",
    "\n",
    "print(EX_train.shape, Ey_train.shape)"
   ]
  },
  {
   "cell_type": "code",
   "execution_count": 7,
   "id": "7129f974",
   "metadata": {},
   "outputs": [
    {
     "name": "stdout",
     "output_type": "stream",
     "text": [
      "N:  1\n",
      "FOLD: 0\n",
      "(1000, 3000) (1000,) (4000, 3000) (4000,)\n",
      "Accuracy = 0.825\n",
      "Precision = 0.6544943820224719 Recall = 0.8175438596491228\n",
      "FOLD: 1\n",
      "(1000, 3000) (1000,) (4000, 3000) (4000,)\n",
      "Accuracy = 0.853\n",
      "Precision = 0.6857142857142857 Recall = 0.8664259927797834\n",
      "FOLD: 2\n",
      "(1000, 3000) (1000,) (4000, 3000) (4000,)\n",
      "Accuracy = 0.862\n",
      "Precision = 0.7212121212121212 Recall = 0.8380281690140845\n",
      "FOLD: 3\n",
      "(1000, 3000) (1000,) (4000, 3000) (4000,)\n",
      "Accuracy = 0.851\n",
      "Precision = 0.7164179104477612 Recall = 0.8163265306122449\n",
      "FOLD: 4\n",
      "(1000, 3000) (1000,) (4000, 3000) (4000,)\n",
      "Accuracy = 0.775\n",
      "Precision = 0.6057441253263708 Recall = 0.7581699346405228\n",
      "avg accuracy = 0.8332\n",
      "N:  3\n",
      "FOLD: 0\n",
      "(1000, 3000) (1000,) (4000, 3000) (4000,)\n",
      "Accuracy = 0.847\n",
      "Precision = 0.680327868852459 Recall = 0.8736842105263158\n",
      "FOLD: 1\n",
      "(1000, 3000) (1000,) (4000, 3000) (4000,)\n",
      "Accuracy = 0.851\n",
      "Precision = 0.6975308641975309 Recall = 0.8158844765342961\n",
      "FOLD: 2\n",
      "(1000, 3000) (1000,) (4000, 3000) (4000,)\n",
      "Accuracy = 0.859\n",
      "Precision = 0.7227414330218068 Recall = 0.8169014084507042\n",
      "FOLD: 3\n",
      "(1000, 3000) (1000,) (4000, 3000) (4000,)\n",
      "Accuracy = 0.88\n",
      "Precision = 0.7788461538461539 Recall = 0.826530612244898\n",
      "FOLD: 4\n",
      "(1000, 3000) (1000,) (4000, 3000) (4000,)\n",
      "Accuracy = 0.774\n",
      "Precision = 0.6086956521739131 Recall = 0.7320261437908496\n",
      "avg accuracy = 0.8422000000000001\n",
      "N:  5\n",
      "FOLD: 0\n",
      "(1000, 3000) (1000,) (4000, 3000) (4000,)\n",
      "Accuracy = 0.837\n",
      "Precision = 0.6685082872928176 Recall = 0.8491228070175438\n",
      "FOLD: 1\n",
      "(1000, 3000) (1000,) (4000, 3000) (4000,)\n",
      "Accuracy = 0.85\n",
      "Precision = 0.7068403908794788 Recall = 0.7833935018050542\n",
      "FOLD: 2\n",
      "(1000, 3000) (1000,) (4000, 3000) (4000,)\n",
      "Accuracy = 0.869\n",
      "Precision = 0.7475728155339806 Recall = 0.8133802816901409\n",
      "FOLD: 3\n",
      "(1000, 3000) (1000,) (4000, 3000) (4000,)\n",
      "Accuracy = 0.869\n",
      "Precision = 0.7620578778135049 Recall = 0.8061224489795918\n",
      "FOLD: 4\n",
      "(1000, 3000) (1000,) (4000, 3000) (4000,)\n",
      "Accuracy = 0.779\n",
      "Precision = 0.613941018766756 Recall = 0.7483660130718954\n",
      "avg accuracy = 0.8408\n",
      "N:  7\n",
      "FOLD: 0\n",
      "(1000, 3000) (1000,) (4000, 3000) (4000,)\n",
      "Accuracy = 0.839\n",
      "Precision = 0.6712707182320442 Recall = 0.8526315789473684\n",
      "FOLD: 1\n",
      "(1000, 3000) (1000,) (4000, 3000) (4000,)\n",
      "Accuracy = 0.864\n",
      "Precision = 0.7252396166134185 Recall = 0.8194945848375451\n",
      "FOLD: 2\n",
      "(1000, 3000) (1000,) (4000, 3000) (4000,)\n",
      "Accuracy = 0.875\n",
      "Precision = 0.7556270096463023 Recall = 0.8274647887323944\n",
      "FOLD: 3\n",
      "(1000, 3000) (1000,) (4000, 3000) (4000,)\n",
      "Accuracy = 0.874\n",
      "Precision = 0.7781456953642384 Recall = 0.7993197278911565\n",
      "FOLD: 4\n",
      "(1000, 3000) (1000,) (4000, 3000) (4000,)\n",
      "Accuracy = 0.779\n",
      "Precision = 0.6145552560646901 Recall = 0.7450980392156863\n",
      "avg accuracy = 0.8462\n",
      "N:  10\n",
      "FOLD: 0\n",
      "(1000, 3000) (1000,) (4000, 3000) (4000,)\n",
      "Accuracy = 0.862\n",
      "Precision = 0.7318611987381703 Recall = 0.8140350877192982\n",
      "FOLD: 1\n",
      "(1000, 3000) (1000,) (4000, 3000) (4000,)\n",
      "Accuracy = 0.869\n",
      "Precision = 0.75 Recall = 0.7906137184115524\n",
      "FOLD: 2\n",
      "(1000, 3000) (1000,) (4000, 3000) (4000,)\n",
      "Accuracy = 0.878\n",
      "Precision = 0.7852112676056338 Recall = 0.7852112676056338\n",
      "FOLD: 3\n",
      "(1000, 3000) (1000,) (4000, 3000) (4000,)\n",
      "Accuracy = 0.887\n",
      "Precision = 0.8267148014440433 Recall = 0.7789115646258503\n",
      "FOLD: 4\n",
      "(1000, 3000) (1000,) (4000, 3000) (4000,)\n",
      "Accuracy = 0.782\n",
      "Precision = 0.6317365269461078 Recall = 0.6895424836601307\n",
      "avg accuracy = 0.8556000000000001\n"
     ]
    }
   ],
   "source": [
    "#compute agv accuracy for K = 1,3,5,7,10\n",
    "k=[1, 3, 5, 7, 10]\n",
    "accuracyList =[]\n",
    "\n",
    "for idx, n in enumerate(k):\n",
    "    print (\"N: \", n)\n",
    "    total_acc=0\n",
    "    for i in range(0,5):\n",
    "        print(\"FOLD: \" + str(i))\n",
    "        X_test  = EX_train[i*1000:(i+1)*1000]\n",
    "        y_test  = Ey_train[i*1000:(i+1)*1000] \n",
    "        indices = np.arange(i*1000, (i+1)*1000, 1, dtype=int)\n",
    "        X_train = np.delete(EX_train, indices, axis=0)\n",
    "        y_train = np.delete(Ey_train, indices, axis=0)\n",
    "        #print(X_test.shape, y_test.shape, X_train.shape, y_train.shape)\n",
    "        # initialize the classifier with value of number of neighbors=1\n",
    "        clf = KNeighborsClassifier(n)\n",
    "        # Train the classifier\n",
    "        clf.fit(X_train, y_train)\n",
    "        # Make predictions\n",
    "        predictions = clf.predict(X_test)\n",
    "        accuracy = np.sum(predictions == y_test)/(len(y_test))\n",
    "        total_acc +=accuracy;\n",
    "        \n",
    "        TP = np.sum(np.logical_and(predictions == 1, y_test == 1))\n",
    "        TN = np.sum(np.logical_and(predictions == 0, y_test == 0))\n",
    "        FP = np.sum(np.logical_and(predictions == 1, y_test == 0))\n",
    "        FN = np.sum(np.logical_and(predictions == 0, y_test == 1))\n",
    "        print (\"Accuracy = \" + str(accuracy))\n",
    "        print (\"Precision = \" + str (float (TP/(TP+FP))), \"Recall = \" + str (float(TP/(TP+FN))))\n",
    "    accuracyList.append(total_acc/5.0)\n",
    "    print(\"avg accuracy =\", total_acc/5.0)"
   ]
  },
  {
   "cell_type": "code",
   "execution_count": 4,
   "id": "d3e0e398",
   "metadata": {},
   "outputs": [
    {
     "name": "stdout",
     "output_type": "stream",
     "text": [
      "K =  1 Avg Accuracy =  0.8332\n",
      "K =  3 Avg Accuracy =  0.8422000000000001\n",
      "K =  5 Avg Accuracy =  0.8408\n",
      "K =  7 Avg Accuracy =  0.8462\n",
      "K =  10 Avg Accuracy =  0.8556000000000001\n"
     ]
    }
   ],
   "source": [
    "for idx, n in enumerate(k):\n",
    "    print (\"K = \", n, \"Avg Accuracy = \", accuracyList[idx])"
   ]
  },
  {
   "cell_type": "code",
   "execution_count": 5,
   "id": "45110c53",
   "metadata": {},
   "outputs": [
    {
     "data": {
      "image/png": "[encoded data removed]",
      "text/plain": [
       "<Figure size 432x288 with 1 Axes>"
      ]
     },
     "metadata": {
      "needs_background": "light"
     },
     "output_type": "display_data"
    }
   ],
   "source": [
    "# Plot accuracy vs k\n",
    "plt.figure()\n",
    "plt.plot(k, accuracyList)\n",
    "plt.grid() \n",
    "plt.xlabel('k')\n",
    "plt.ylabel('Avg Accuracy')\n",
    "plt.title('Avg Accuracy vs # of neighbors')\n",
    "  \n",
    "plt.show()"
   ]
  },
  {
   "cell_type": "code",
   "execution_count": null,
   "id": "5c66a8af",
   "metadata": {},
   "outputs": [],
   "source": []
  }
 ],
 "metadata": {
  "kernelspec": {
   "display_name": "Python 3 (ipykernel)",
   "language": "python",
   "name": "python3"
  },
  "language_info": {
   "codemirror_mode": {
    "name": "ipython",
    "version": 3
   },
   "file_extension": ".py",
   "mimetype": "text/x-python",
   "name": "python",
   "nbconvert_exporter": "python",
   "pygments_lexer": "ipython3",
   "version": "3.9.7"
  }
 },
 "nbformat": 4,
 "nbformat_minor": 5
}
